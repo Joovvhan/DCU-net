{
 "cells": [
  {
   "cell_type": "code",
   "execution_count": 16,
   "metadata": {},
   "outputs": [],
   "source": [
    "import librosa\n",
    "from glob import glob\n",
    "import random\n",
    "import numpy as np\n",
    "import matplotlib.pyplot as plt"
   ]
  },
  {
   "cell_type": "code",
   "execution_count": 2,
   "metadata": {},
   "outputs": [],
   "source": [
    "wav_files = sorted(glob('./data/background/YD/*.wav'))"
   ]
  },
  {
   "cell_type": "code",
   "execution_count": 170,
   "metadata": {},
   "outputs": [],
   "source": [
    "# print(wav_files)"
   ]
  },
  {
   "cell_type": "code",
   "execution_count": 6,
   "metadata": {},
   "outputs": [
    {
     "data": {
      "text/plain": [
       "88.0"
      ]
     },
     "execution_count": 6,
     "metadata": {},
     "output_type": "execute_result"
    }
   ],
   "source": [
    "librosa.core.get_duration(filename=wav_files[0])"
   ]
  },
  {
   "cell_type": "code",
   "execution_count": 11,
   "metadata": {},
   "outputs": [],
   "source": [
    "class MultiStreamLoader():\n",
    "    \n",
    "    def __init__(self, files, fs=22050):\n",
    "        self.files = files\n",
    "        self.fs = fs\n",
    "        self.current_tracks = self.files.copy()\n",
    "        random.shuffle(self.current_tracks)\n",
    "        self.buffer_length = int(fs * 0.1)\n",
    "        self.stream = librosa.core.stream(self.current_tracks[0], 1,\n",
    "                                          self.buffer_length, self.buffer_length)\n",
    "        \n",
    "    def _update_stream(self):\n",
    "        self.current_tracks.pop(0)\n",
    "        \n",
    "        if len(self.current_tracks) == 0:\n",
    "            self.current_tracks = self.files.copy()\n",
    "            random.shuffle(self.current_tracks)\n",
    "        \n",
    "        self.stream = librosa.core.stream(self.current_tracks[0], 1,\n",
    "                                          self.buffer_length, self.buffer_length)\n",
    "        \n",
    "    def _get_stream(self):\n",
    "        try:\n",
    "            return next(self.stream)\n",
    "        except StopIteration:\n",
    "            self._update_stream()\n",
    "            return next(self.stream)\n",
    "        \n",
    "    def get(self, sec):\n",
    "        buffer = self._get_stream()\n",
    "        while len(buffer) < sec * self.fs:\n",
    "            buffer = np.concatenate((buffer, self._get_stream()), axis=0)\n",
    "        return buffer"
   ]
  },
  {
   "cell_type": "code",
   "execution_count": 12,
   "metadata": {},
   "outputs": [],
   "source": [
    "# librosa.core.stream(mp3_files[0], block_length, frame_length, hop_length)\n",
    "# #                     dtype=<class 'numpy.float32'>)"
   ]
  },
  {
   "cell_type": "code",
   "execution_count": 13,
   "metadata": {},
   "outputs": [],
   "source": [
    "background_stream_loader = MultiStreamLoader(wav_files)"
   ]
  },
  {
   "cell_type": "code",
   "execution_count": 47,
   "metadata": {},
   "outputs": [
    {
     "name": "stdout",
     "output_type": "stream",
     "text": [
      "1024.0\n",
      "256.0\n",
      "\n",
      "1411.2\n",
      "352.8\n",
      "\n",
      "15.96371882086168\n",
      "64.03628117913831\n",
      "\n",
      "23.219954648526077\n",
      "92.87981859410431\n",
      "\n"
     ]
    }
   ],
   "source": [
    "'''\n",
    "Pre-processing. \n",
    "The original raw waveforms were first downsampled from 48kHz to 16kHz.\n",
    "For the actual model input, complex-valued spectrograms were obtained \n",
    "from the downsampled waveforms via STFT with a 64ms sized Hann window and 16ms hop length.\n",
    "'''\n",
    "print(16000 * 64 / 1000)\n",
    "print(16000 * 16 / 1000)\n",
    "print()\n",
    "\n",
    "print(22050 * 64 / 1000)\n",
    "print(22050 * 16 / 1000)\n",
    "print()\n",
    "\n",
    "print(352 / 22050 * 1000)\n",
    "print(1412 / 22050 * 1000)\n",
    "print()\n",
    "\n",
    "print(512 / 22050 * 1000)\n",
    "print(2048 / 22050 * 1000)\n",
    "print()"
   ]
  },
  {
   "cell_type": "code",
   "execution_count": 48,
   "metadata": {
    "scrolled": true
   },
   "outputs": [],
   "source": [
    "for i in range(1):\n",
    "\n",
    "    x = background_stream_loader.get(10)\n",
    "#     print(background_stream_loader.current_tracks[0])\n",
    "#     print(len(x))"
   ]
  },
  {
   "cell_type": "code",
   "execution_count": 51,
   "metadata": {},
   "outputs": [],
   "source": [
    "speech_files = sorted(glob('./data/speech/KSS/*/*.wav'))"
   ]
  },
  {
   "cell_type": "code",
   "execution_count": 59,
   "metadata": {},
   "outputs": [],
   "source": [
    "speech_file_lengths = [(f, librosa.core.get_duration(filename=f)) for f in speech_files]"
   ]
  },
  {
   "cell_type": "code",
   "execution_count": 67,
   "metadata": {},
   "outputs": [],
   "source": [
    "l = [s[1] for s in speech_file_lengths]"
   ]
  },
  {
   "cell_type": "code",
   "execution_count": 74,
   "metadata": {},
   "outputs": [
    {
     "data": {
      "image/png": "[encoded data removed]",
      "text/plain": [
       "<Figure size 432x288 with 1 Axes>"
      ]
     },
     "metadata": {
      "needs_background": "light"
     },
     "output_type": "display_data"
    }
   ],
   "source": [
    "plt.figure()\n",
    "plt.hist(l, bins=30) \n",
    "plt.axvline(x=np.mean(l), c='r')\n",
    "plt.show()"
   ]
  },
  {
   "cell_type": "code",
   "execution_count": 100,
   "metadata": {},
   "outputs": [
    {
     "data": {
      "image/png": "[encoded data removed]",
      "text/plain": [
       "<Figure size 432x288 with 1 Axes>"
      ]
     },
     "metadata": {
      "needs_background": "light"
     },
     "output_type": "display_data"
    }
   ],
   "source": [
    "plt.figure()\n",
    "plt.plot(sorted(l))\n",
    "plt.axhline(y=6.0, c='r')\n",
    "plt.show()"
   ]
  },
  {
   "cell_type": "code",
   "execution_count": 146,
   "metadata": {
    "scrolled": false
   },
   "outputs": [],
   "source": [
    "mu_graph = list()\n",
    "sig_graph = list()\n",
    "\n",
    "for i in np.arange(5, 7, 0.05):\n",
    "\n",
    "#     plt.figure()\n",
    "    l_array = np.array(sorted(l))\n",
    "    summing_array = l_array[l_array <= i]\n",
    "    left_array = l_array[l_array > i]\n",
    "    sum_array = summing_array + np.flip(summing_array)\n",
    "    result = np.concatenate([sum_array, left_array])\n",
    "#     plt.plot(result)\n",
    "#     plt.show()\n",
    "    \n",
    "    mu = np.mean(result)\n",
    "    sig = np.std(result)\n",
    "    \n",
    "#     print(mu)\n",
    "#     print(sig)\n",
    "    \n",
    "    mu_graph.append(i)\n",
    "    sig_graph.append(sig)\n",
    "    \n",
    "#     plt.figure()\n",
    "#     plt.hist(result, bins=30) \n",
    "#     plt.axvline(x=mu, c='r')\n",
    "#     plt.show()\n",
    "    "
   ]
  },
  {
   "cell_type": "code",
   "execution_count": 147,
   "metadata": {},
   "outputs": [
    {
     "data": {
      "image/png": "[encoded data removed]",
      "text/plain": [
       "<Figure size 432x288 with 1 Axes>"
      ]
     },
     "metadata": {
      "needs_background": "light"
     },
     "output_type": "display_data"
    },
    {
     "name": "stdout",
     "output_type": "stream",
     "text": [
      "21\n",
      "6.049999999999996\n"
     ]
    }
   ],
   "source": [
    "plt.figure()\n",
    "plt.plot(mu_graph, sig_graph)\n",
    "plt.show()\n",
    "\n",
    "idx = np.argmin(sig_graph)\n",
    "print(idx)\n",
    "print(mu_graph[idx])"
   ]
  },
  {
   "cell_type": "code",
   "execution_count": 149,
   "metadata": {},
   "outputs": [],
   "source": [
    "speech_file_lengths.sort(key=lambda x: x[1])"
   ]
  },
  {
   "cell_type": "code",
   "execution_count": 168,
   "metadata": {
    "scrolled": false
   },
   "outputs": [],
   "source": [
    "idx = np.argmin([abs(l[1] - 6.05) for l in speech_file_lengths])\n",
    "if idx % 2 != 1:\n",
    "    idx +=1 \n",
    "    \n",
    "folding_files = speech_file_lengths[:idx]\n",
    "left_files = speech_file_lengths[idx:]\n",
    "\n",
    "def fold(input_list):\n",
    "    center = int((len(input_list) - 1) / 2)\n",
    "    x = input_list[:center]\n",
    "    y = input_list[center:][::-1]\n",
    "    \n",
    "    return [((a[0], b[0]), (a[1], b[1])) for a, b in zip(x, y)]\n",
    "\n",
    "folded_files = fold(folding_files)\n",
    "\n",
    "merge_files = folded_files + left_files"
   ]
  },
  {
   "cell_type": "code",
   "execution_count": 169,
   "metadata": {},
   "outputs": [
    {
     "data": {
      "text/plain": [
       "6531"
      ]
     },
     "execution_count": 169,
     "metadata": {},
     "output_type": "execute_result"
    }
   ],
   "source": [
    "len(merge_files)"
   ]
  },
  {
   "cell_type": "code",
   "execution_count": null,
   "metadata": {},
   "outputs": [],
   "source": []
  }
 ],
 "metadata": {
  "kernelspec": {
   "display_name": "Python 3",
   "language": "python",
   "name": "python3"
  },
  "language_info": {
   "codemirror_mode": {
    "name": "ipython",
    "version": 3
   },
   "file_extension": ".py",
   "mimetype": "text/x-python",
   "name": "python",
   "nbconvert_exporter": "python",
   "pygments_lexer": "ipython3",
   "version": "3.7.5"
  }
 },
 "nbformat": 4,
 "nbformat_minor": 2
}
