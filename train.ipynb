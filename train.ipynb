{
 "cells": [
  {
   "cell_type": "code",
   "execution_count": 1,
   "metadata": {},
   "outputs": [],
   "source": [
    "from glob import glob\n",
    "import scipy\n",
    "import numpy as np\n",
    "import matplotlib.pyplot as plt\n",
    "from dataloader import MultiStreamLoader, concat_variable_length_files, get_data_loader\n",
    "\n",
    "import torch\n",
    "from torch import nn\n",
    "from torch import optim\n",
    "\n",
    "from model import UNet\n",
    "\n",
    "from tensorboardX import SummaryWriter"
   ]
  },
  {
   "cell_type": "code",
   "execution_count": 2,
   "metadata": {},
   "outputs": [],
   "source": [
    "writer = SummaryWriter()"
   ]
  },
  {
   "cell_type": "code",
   "execution_count": 3,
   "metadata": {},
   "outputs": [
    {
     "name": "stderr",
     "output_type": "stream",
     "text": [
      "100%|██████████| 12854/12854 [00:01<00:00, 8369.89it/s]"
     ]
    },
    {
     "name": "stdout",
     "output_type": "stream",
     "text": [
      "12854 =>  6531\n"
     ]
    },
    {
     "name": "stderr",
     "output_type": "stream",
     "text": [
      "\n"
     ]
    }
   ],
   "source": [
    "wav_files = sorted(glob('./data/background/YD/*.wav'))\n",
    "background_stream_loader = MultiStreamLoader(wav_files)\n",
    "\n",
    "speech_files = sorted(glob('./data/speech/KSS/*/*.wav'))\n",
    "before_folding = len(speech_files)\n",
    "speech_files = concat_variable_length_files(speech_files)\n",
    "print(f'{before_folding:5} => {len(speech_files):5}')\n",
    "\n",
    "background_stream_loader = MultiStreamLoader(wav_files)\n",
    "dataloader = get_data_loader([f[0] for f in speech_files], background_stream_loader)"
   ]
  },
  {
   "cell_type": "code",
   "execution_count": 4,
   "metadata": {
    "scrolled": false
   },
   "outputs": [
    {
     "name": "stdout",
     "output_type": "stream",
     "text": [
      "tensor(0.1488, grad_fn=<AddBackward0>)\n",
      "tensor(0.1497, grad_fn=<AddBackward0>)\n",
      "tensor(0.1509, grad_fn=<AddBackward0>)\n",
      "tensor(0.1522, grad_fn=<AddBackward0>)\n",
      "tensor(0.1473, grad_fn=<AddBackward0>)\n",
      "tensor(0.1405, grad_fn=<AddBackward0>)\n",
      "tensor(0.1456, grad_fn=<AddBackward0>)\n",
      "tensor(0.1201, grad_fn=<AddBackward0>)\n",
      "tensor(0.1430, grad_fn=<AddBackward0>)\n",
      "tensor(0.1452, grad_fn=<AddBackward0>)\n",
      "tensor(0.1124, grad_fn=<AddBackward0>)\n",
      "tensor(0.1391, grad_fn=<AddBackward0>)\n",
      "tensor(0.1427, grad_fn=<AddBackward0>)\n",
      "tensor(0.1075, grad_fn=<AddBackward0>)\n",
      "tensor(0.1113, grad_fn=<AddBackward0>)\n",
      "tensor(0.1373, grad_fn=<AddBackward0>)\n",
      "tensor(0.1106, grad_fn=<AddBackward0>)\n",
      "tensor(0.1271, grad_fn=<AddBackward0>)\n",
      "tensor(0.1340, grad_fn=<AddBackward0>)\n",
      "tensor(0.1250, grad_fn=<AddBackward0>)\n",
      "tensor(0.1098, grad_fn=<AddBackward0>)\n",
      "tensor(0.1355, grad_fn=<AddBackward0>)\n",
      "tensor(0.1257, grad_fn=<AddBackward0>)\n",
      "tensor(0.1258, grad_fn=<AddBackward0>)\n",
      "tensor(0.1080, grad_fn=<AddBackward0>)\n",
      "tensor(0.1302, grad_fn=<AddBackward0>)\n",
      "tensor(0.1014, grad_fn=<AddBackward0>)\n",
      "tensor(0.1244, grad_fn=<AddBackward0>)\n",
      "tensor(0.1103, grad_fn=<AddBackward0>)\n",
      "tensor(0.1217, grad_fn=<AddBackward0>)\n",
      "tensor(0.1260, grad_fn=<AddBackward0>)\n",
      "tensor(0.1230, grad_fn=<AddBackward0>)\n",
      "tensor(0.1238, grad_fn=<AddBackward0>)\n",
      "tensor(0.1071, grad_fn=<AddBackward0>)\n"
     ]
    },
    {
     "name": "stderr",
     "output_type": "stream",
     "text": [
      "Traceback (most recent call last):\n",
      "  File \"/Users/joowhan/opt/anaconda3/envs/py3_env/lib/python3.7/multiprocessing/queues.py\", line 242, in _feed\n",
      "    send_bytes(obj)\n",
      "  File \"/Users/joowhan/opt/anaconda3/envs/py3_env/lib/python3.7/multiprocessing/connection.py\", line 200, in send_bytes\n",
      "    self._send_bytes(m[offset:offset + size])\n",
      "  File \"/Users/joowhan/opt/anaconda3/envs/py3_env/lib/python3.7/multiprocessing/connection.py\", line 404, in _send_bytes\n",
      "    self._send(header + buf)\n",
      "  File \"/Users/joowhan/opt/anaconda3/envs/py3_env/lib/python3.7/multiprocessing/connection.py\", line 368, in _send\n",
      "    n = write(self._handle, buf)\n",
      "BrokenPipeError: [Errno 32] Broken pipe\n"
     ]
    },
    {
     "ename": "KeyboardInterrupt",
     "evalue": "",
     "output_type": "error",
     "traceback": [
      "\u001b[0;31m---------------------------------------------------------------------------\u001b[0m",
      "\u001b[0;31mKeyboardInterrupt\u001b[0m                         Traceback (most recent call last)",
      "\u001b[0;32m<ipython-input-4-94794842a9d8>\u001b[0m in \u001b[0;36m<module>\u001b[0;34m\u001b[0m\n\u001b[1;32m     33\u001b[0m         \u001b[0mloss2\u001b[0m \u001b[0;34m=\u001b[0m \u001b[0ml2_loss\u001b[0m\u001b[0;34m(\u001b[0m\u001b[0moutput\u001b[0m\u001b[0;34m,\u001b[0m \u001b[0msignal\u001b[0m\u001b[0;34m)\u001b[0m\u001b[0;34m\u001b[0m\u001b[0;34m\u001b[0m\u001b[0m\n\u001b[1;32m     34\u001b[0m         \u001b[0mloss\u001b[0m \u001b[0;34m=\u001b[0m \u001b[0mloss1\u001b[0m \u001b[0;34m+\u001b[0m \u001b[0mloss2\u001b[0m\u001b[0;34m\u001b[0m\u001b[0;34m\u001b[0m\u001b[0m\n\u001b[0;32m---> 35\u001b[0;31m         \u001b[0mloss\u001b[0m\u001b[0;34m.\u001b[0m\u001b[0mbackward\u001b[0m\u001b[0;34m(\u001b[0m\u001b[0;34m)\u001b[0m\u001b[0;34m\u001b[0m\u001b[0;34m\u001b[0m\u001b[0m\n\u001b[0m\u001b[1;32m     36\u001b[0m         \u001b[0moptimizer\u001b[0m\u001b[0;34m.\u001b[0m\u001b[0mstep\u001b[0m\u001b[0;34m(\u001b[0m\u001b[0;34m)\u001b[0m\u001b[0;34m\u001b[0m\u001b[0;34m\u001b[0m\u001b[0m\n\u001b[1;32m     37\u001b[0m         \u001b[0moptimizer\u001b[0m\u001b[0;34m.\u001b[0m\u001b[0mzero_grad\u001b[0m\u001b[0;34m(\u001b[0m\u001b[0;34m)\u001b[0m\u001b[0;34m\u001b[0m\u001b[0;34m\u001b[0m\u001b[0m\n",
      "\u001b[0;32m~/opt/anaconda3/envs/py3_env/lib/python3.7/site-packages/torch/tensor.py\u001b[0m in \u001b[0;36mbackward\u001b[0;34m(self, gradient, retain_graph, create_graph)\u001b[0m\n\u001b[1;32m    164\u001b[0m                 \u001b[0mproducts\u001b[0m\u001b[0;34m.\u001b[0m \u001b[0mDefaults\u001b[0m \u001b[0mto\u001b[0m\u001b[0;31m \u001b[0m\u001b[0;31m`\u001b[0m\u001b[0;31m`\u001b[0m\u001b[0;32mFalse\u001b[0m\u001b[0;31m`\u001b[0m\u001b[0;31m`\u001b[0m\u001b[0;34m.\u001b[0m\u001b[0;34m\u001b[0m\u001b[0;34m\u001b[0m\u001b[0m\n\u001b[1;32m    165\u001b[0m         \"\"\"\n\u001b[0;32m--> 166\u001b[0;31m         \u001b[0mtorch\u001b[0m\u001b[0;34m.\u001b[0m\u001b[0mautograd\u001b[0m\u001b[0;34m.\u001b[0m\u001b[0mbackward\u001b[0m\u001b[0;34m(\u001b[0m\u001b[0mself\u001b[0m\u001b[0;34m,\u001b[0m \u001b[0mgradient\u001b[0m\u001b[0;34m,\u001b[0m \u001b[0mretain_graph\u001b[0m\u001b[0;34m,\u001b[0m \u001b[0mcreate_graph\u001b[0m\u001b[0;34m)\u001b[0m\u001b[0;34m\u001b[0m\u001b[0;34m\u001b[0m\u001b[0m\n\u001b[0m\u001b[1;32m    167\u001b[0m \u001b[0;34m\u001b[0m\u001b[0m\n\u001b[1;32m    168\u001b[0m     \u001b[0;32mdef\u001b[0m \u001b[0mregister_hook\u001b[0m\u001b[0;34m(\u001b[0m\u001b[0mself\u001b[0m\u001b[0;34m,\u001b[0m \u001b[0mhook\u001b[0m\u001b[0;34m)\u001b[0m\u001b[0;34m:\u001b[0m\u001b[0;34m\u001b[0m\u001b[0;34m\u001b[0m\u001b[0m\n",
      "\u001b[0;32m~/opt/anaconda3/envs/py3_env/lib/python3.7/site-packages/torch/autograd/__init__.py\u001b[0m in \u001b[0;36mbackward\u001b[0;34m(tensors, grad_tensors, retain_graph, create_graph, grad_variables)\u001b[0m\n\u001b[1;32m     97\u001b[0m     Variable._execution_engine.run_backward(\n\u001b[1;32m     98\u001b[0m         \u001b[0mtensors\u001b[0m\u001b[0;34m,\u001b[0m \u001b[0mgrad_tensors\u001b[0m\u001b[0;34m,\u001b[0m \u001b[0mretain_graph\u001b[0m\u001b[0;34m,\u001b[0m \u001b[0mcreate_graph\u001b[0m\u001b[0;34m,\u001b[0m\u001b[0;34m\u001b[0m\u001b[0;34m\u001b[0m\u001b[0m\n\u001b[0;32m---> 99\u001b[0;31m         allow_unreachable=True)  # allow_unreachable flag\n\u001b[0m\u001b[1;32m    100\u001b[0m \u001b[0;34m\u001b[0m\u001b[0m\n\u001b[1;32m    101\u001b[0m \u001b[0;34m\u001b[0m\u001b[0m\n",
      "\u001b[0;31mKeyboardInterrupt\u001b[0m: "
     ]
    }
   ],
   "source": [
    "'''\n",
    "Our implementation of U-Net is similar to that of [11]. \n",
    "Each encoder layer consists of a strided 2D convolution of stride 2 and kernel size 5x5, \n",
    "batch normalization, and leaky rectified linear units (ReLU) with leakiness 0.2. \n",
    "In the decoder we use strided deconvolution (sometimes referred to as transposed convolution) \n",
    "with stride 2 and kernel size 5x5, batch normalization, plain ReLU, \n",
    "and use 50% dropout to the first three layers, as in [11]. \n",
    "In the final layer we use a sigmoid activation function. \n",
    "The model is trained using the ADAM [12] optimizer.\n",
    "'''\n",
    "\n",
    "\n",
    "l1_loss = nn.L1Loss(reduction='mean')\n",
    "l2_loss = nn.MSELoss(reduction='mean')\n",
    "\n",
    "model = UNet()\n",
    "\n",
    "optimizer = optim.Adam(model.parameters(), lr=0.0001)\n",
    "\n",
    "for i in range(100):\n",
    "\n",
    "    for i, batch in enumerate(dataloader):\n",
    "        Zxxs, log_spectrograms = batch\n",
    "\n",
    "        # Zxxs[0].shape\n",
    "        # torch.Size([4, 321, 1025, 2])\n",
    "        # log_spectrograms[0].shape\n",
    "        # torch.Size([4, 321, 1025])\n",
    "        signal, noise, mixed = log_spectrograms\n",
    "\n",
    "        output = model(mixed)\n",
    "        loss1 = l1_loss(output, signal)\n",
    "        loss2 = l2_loss(output, signal)\n",
    "        loss = loss1 + loss2\n",
    "        loss.backward()\n",
    "        optimizer.step()\n",
    "        optimizer.zero_grad()\n",
    "\n",
    "        print(loss)"
   ]
  },
  {
   "cell_type": "code",
   "execution_count": null,
   "metadata": {},
   "outputs": [],
   "source": []
  }
 ],
 "metadata": {
  "kernelspec": {
   "display_name": "Python 3",
   "language": "python",
   "name": "python3"
  },
  "language_info": {
   "codemirror_mode": {
    "name": "ipython",
    "version": 3
   },
   "file_extension": ".py",
   "mimetype": "text/x-python",
   "name": "python",
   "nbconvert_exporter": "python",
   "pygments_lexer": "ipython3",
   "version": "3.7.5"
  }
 },
 "nbformat": 4,
 "nbformat_minor": 2
}
